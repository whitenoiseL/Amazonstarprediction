{
 "cells": [
  {
   "cell_type": "code",
   "execution_count": 1,
   "metadata": {
    "collapsed": false
   },
   "outputs": [],
   "source": [
    "import pandas as pd\n",
    "import numpy as np\n",
    "import nltk\n",
    "import math\n",
    "import time\n",
    "import operator\n",
    "import string\n",
    "import csv\n",
    "from sklearn.cluster import KMeans\n",
    "from math import pi\n",
    "from sklearn.metrics import mean_squared_error\n",
    "from nltk.corpus import wordnet, stopwords, sentiwordnet as swn\n",
    "from nltk.tokenize import sent_tokenize, word_tokenize, WhitespaceTokenizer\n",
    "from sklearn.feature_extraction.text import TfidfVectorizer"
   ]
  },
  {
   "cell_type": "code",
   "execution_count": 3,
   "metadata": {
    "collapsed": false,
    "scrolled": true
   },
   "outputs": [
    {
     "data": {
      "text/html": [
       "<div>\n",
       "<table border=\"1\" class=\"dataframe\">\n",
       "  <thead>\n",
       "    <tr style=\"text-align: right;\">\n",
       "      <th></th>\n",
       "      <th>asin</th>\n",
       "      <th>date</th>\n",
       "      <th>downvotes</th>\n",
       "      <th>review_comments</th>\n",
       "      <th>review_id</th>\n",
       "      <th>review_text</th>\n",
       "      <th>review_type</th>\n",
       "      <th>reviewer</th>\n",
       "      <th>star_rating</th>\n",
       "      <th>upvotes</th>\n",
       "      <th>...</th>\n",
       "      <th>in_app_purchase</th>\n",
       "      <th>mas_rating</th>\n",
       "      <th>min_os_version</th>\n",
       "      <th>num_permissions</th>\n",
       "      <th>num_screenshots</th>\n",
       "      <th>price</th>\n",
       "      <th>release_date</th>\n",
       "      <th>size_MB</th>\n",
       "      <th>title</th>\n",
       "      <th>update_date</th>\n",
       "    </tr>\n",
       "  </thead>\n",
       "  <tbody>\n",
       "    <tr>\n",
       "      <th>0</th>\n",
       "      <td>B00OPRXVIC</td>\n",
       "      <td>2014-11-06</td>\n",
       "      <td>NaN</td>\n",
       "      <td>0</td>\n",
       "      <td>RAC9Q5IDVW1TC</td>\n",
       "      <td>this is cool. parents can write an email from ...</td>\n",
       "      <td>Verified Purchase</td>\n",
       "      <td>A2NGN1TFABVU8Q</td>\n",
       "      <td>5</td>\n",
       "      <td>NaN</td>\n",
       "      <td>...</td>\n",
       "      <td>0</td>\n",
       "      <td>Guidance Suggested</td>\n",
       "      <td>2.3.3</td>\n",
       "      <td>1</td>\n",
       "      <td>10</td>\n",
       "      <td>199.0</td>\n",
       "      <td>2014-10-21</td>\n",
       "      <td>0.32041</td>\n",
       "      <td>Email From Santa 2014</td>\n",
       "      <td>2014-11-06</td>\n",
       "    </tr>\n",
       "    <tr>\n",
       "      <th>1</th>\n",
       "      <td>B008JQPY2G</td>\n",
       "      <td>2012-07-21</td>\n",
       "      <td>NaN</td>\n",
       "      <td>0</td>\n",
       "      <td>R295U1EYQDU4CN</td>\n",
       "      <td>its no good I didnt like it at all</td>\n",
       "      <td>Verified Purchase</td>\n",
       "      <td>A3SHL50ZU1K96M</td>\n",
       "      <td>1</td>\n",
       "      <td>NaN</td>\n",
       "      <td>...</td>\n",
       "      <td>0</td>\n",
       "      <td>All Ages</td>\n",
       "      <td>2.1</td>\n",
       "      <td>2</td>\n",
       "      <td>4</td>\n",
       "      <td>99.0</td>\n",
       "      <td>2012-07-11</td>\n",
       "      <td>12.80000</td>\n",
       "      <td>Monsters - Difference Games - Game App</td>\n",
       "      <td>2012-07-11</td>\n",
       "    </tr>\n",
       "    <tr>\n",
       "      <th>2</th>\n",
       "      <td>B008JQPY2G</td>\n",
       "      <td>2013-01-04</td>\n",
       "      <td>NaN</td>\n",
       "      <td>0</td>\n",
       "      <td>R2Z8UUF4V7ERKX</td>\n",
       "      <td>absolutely terrible. I mean that I did not lik...</td>\n",
       "      <td>NaN</td>\n",
       "      <td>A9MOKV997YYIN</td>\n",
       "      <td>1</td>\n",
       "      <td>NaN</td>\n",
       "      <td>...</td>\n",
       "      <td>0</td>\n",
       "      <td>All Ages</td>\n",
       "      <td>2.1</td>\n",
       "      <td>2</td>\n",
       "      <td>4</td>\n",
       "      <td>99.0</td>\n",
       "      <td>2012-07-11</td>\n",
       "      <td>12.80000</td>\n",
       "      <td>Monsters - Difference Games - Game App</td>\n",
       "      <td>2012-07-11</td>\n",
       "    </tr>\n",
       "    <tr>\n",
       "      <th>3</th>\n",
       "      <td>B008JQPY2G</td>\n",
       "      <td>2015-10-16</td>\n",
       "      <td>NaN</td>\n",
       "      <td>0</td>\n",
       "      <td>R35VWHNI4UXNIP</td>\n",
       "      <td>Fun game</td>\n",
       "      <td>Verified Purchase</td>\n",
       "      <td>A3VYN5P1IRUL3H</td>\n",
       "      <td>5</td>\n",
       "      <td>NaN</td>\n",
       "      <td>...</td>\n",
       "      <td>0</td>\n",
       "      <td>All Ages</td>\n",
       "      <td>2.1</td>\n",
       "      <td>2</td>\n",
       "      <td>4</td>\n",
       "      <td>99.0</td>\n",
       "      <td>2012-07-11</td>\n",
       "      <td>12.80000</td>\n",
       "      <td>Monsters - Difference Games - Game App</td>\n",
       "      <td>2012-07-11</td>\n",
       "    </tr>\n",
       "    <tr>\n",
       "      <th>4</th>\n",
       "      <td>B008JQPY2G</td>\n",
       "      <td>2013-03-05</td>\n",
       "      <td>NaN</td>\n",
       "      <td>0</td>\n",
       "      <td>R7LQK4NGD2ATF</td>\n",
       "      <td>This game downloaded for me, but when I try to...</td>\n",
       "      <td>Verified Purchase</td>\n",
       "      <td>AIX9ODIJLREIM</td>\n",
       "      <td>1</td>\n",
       "      <td>NaN</td>\n",
       "      <td>...</td>\n",
       "      <td>0</td>\n",
       "      <td>All Ages</td>\n",
       "      <td>2.1</td>\n",
       "      <td>2</td>\n",
       "      <td>4</td>\n",
       "      <td>99.0</td>\n",
       "      <td>2012-07-11</td>\n",
       "      <td>12.80000</td>\n",
       "      <td>Monsters - Difference Games - Game App</td>\n",
       "      <td>2012-07-11</td>\n",
       "    </tr>\n",
       "  </tbody>\n",
       "</table>\n",
       "<p>5 rows × 23 columns</p>\n",
       "</div>"
      ],
      "text/plain": [
       "         asin       date  downvotes  review_comments       review_id  \\\n",
       "0  B00OPRXVIC 2014-11-06        NaN                0   RAC9Q5IDVW1TC   \n",
       "1  B008JQPY2G 2012-07-21        NaN                0  R295U1EYQDU4CN   \n",
       "2  B008JQPY2G 2013-01-04        NaN                0  R2Z8UUF4V7ERKX   \n",
       "3  B008JQPY2G 2015-10-16        NaN                0  R35VWHNI4UXNIP   \n",
       "4  B008JQPY2G 2013-03-05        NaN                0   R7LQK4NGD2ATF   \n",
       "\n",
       "                                         review_text        review_type  \\\n",
       "0  this is cool. parents can write an email from ...  Verified Purchase   \n",
       "1                 its no good I didnt like it at all  Verified Purchase   \n",
       "2  absolutely terrible. I mean that I did not lik...                NaN   \n",
       "3                                           Fun game  Verified Purchase   \n",
       "4  This game downloaded for me, but when I try to...  Verified Purchase   \n",
       "\n",
       "         reviewer  star_rating  upvotes     ...     in_app_purchase  \\\n",
       "0  A2NGN1TFABVU8Q            5      NaN     ...                   0   \n",
       "1  A3SHL50ZU1K96M            1      NaN     ...                   0   \n",
       "2   A9MOKV997YYIN            1      NaN     ...                   0   \n",
       "3  A3VYN5P1IRUL3H            5      NaN     ...                   0   \n",
       "4   AIX9ODIJLREIM            1      NaN     ...                   0   \n",
       "\n",
       "           mas_rating min_os_version  num_permissions num_screenshots  price  \\\n",
       "0  Guidance Suggested          2.3.3                1              10  199.0   \n",
       "1            All Ages            2.1                2               4   99.0   \n",
       "2            All Ages            2.1                2               4   99.0   \n",
       "3            All Ages            2.1                2               4   99.0   \n",
       "4            All Ages            2.1                2               4   99.0   \n",
       "\n",
       "   release_date   size_MB                                   title update_date  \n",
       "0    2014-10-21   0.32041                   Email From Santa 2014  2014-11-06  \n",
       "1    2012-07-11  12.80000  Monsters - Difference Games - Game App  2012-07-11  \n",
       "2    2012-07-11  12.80000  Monsters - Difference Games - Game App  2012-07-11  \n",
       "3    2012-07-11  12.80000  Monsters - Difference Games - Game App  2012-07-11  \n",
       "4    2012-07-11  12.80000  Monsters - Difference Games - Game App  2012-07-11  \n",
       "\n",
       "[5 rows x 23 columns]"
      ]
     },
     "execution_count": 3,
     "metadata": {},
     "output_type": "execute_result"
    }
   ],
   "source": [
    "f = open('train_data.csv','r', errors='ignore')\n",
    "train_data = pd.read_csv(f,\n",
    "                header=0, sep=',',\n",
    "                parse_dates=['date', 'release_date', 'update_date'],\n",
    "                infer_datetime_format=True)\n",
    "length_train = len(train_data.review_text)\n",
    "\n",
    "f1 = open('test_data.csv','r', errors='ignore')\n",
    "test_data = pd.read_csv(f1,\n",
    "                header=0, sep=',',\n",
    "                parse_dates=['date', 'release_date', 'update_date'],\n",
    "                infer_datetime_format=True)\n",
    "train_data.head()\n"
   ]
  },
  {
   "cell_type": "code",
   "execution_count": 12,
   "metadata": {
    "collapsed": false
   },
   "outputs": [],
   "source": [
    "train_review = pd.Series.tolist(train_data.review_text)\n",
    "train_rating = pd.Series.tolist(train_data.star_rating)\n",
    "train_model = [None]*5\n",
    "for i in range(5):\n",
    "    train_model[i] = [str(tmp) for tmp, score in zip(train_review, train_rating) if score == i+1]"
   ]
  },
  {
   "cell_type": "code",
   "execution_count": 13,
   "metadata": {
    "collapsed": false
   },
   "outputs": [],
   "source": [
    "most_word = [None]*5\n",
    "feature = [None]*5\n",
    "feature_learn = [None]*5\n",
    "test_model = [None]*5\n",
    "test_review = pd.Series.tolist(test_data.review_text)\n",
    "test_review = [str(tmp) for tmp in test_review]\n",
    "#train_review = [str(tmp) for tmp in train_review]\n",
    "voc_model = TfidfVectorizer(decode_error='ignore', ngram_range=(1,2), max_df=0.8, min_df=0.01, stop_words='english')\n",
    "#voc_tf_model = CountVectorizer(decode_error='ignore', ngram_range=(1,2), stop_words='english')\n",
    "for i in range(5):\n",
    "    feature[i] = voc_model.fit_transform(train_model[i])\n",
    "    #most_word[i] = voc_model.get_feature_names()\n",
    "    feature_learn[i] = voc_model.transform(train_model[i])\n",
    "    test_model[i] = voc_model.transform(test_review)"
   ]
  },
  {
   "cell_type": "code",
   "execution_count": null,
   "metadata": {
    "collapsed": true
   },
   "outputs": [],
   "source": []
  },
  {
   "cell_type": "code",
   "execution_count": 50,
   "metadata": {
    "collapsed": false
   },
   "outputs": [],
   "source": [
    "# for i in range(5):\n",
    "#     for words in most_word[i]:\n",
    "#         syns = wordnet.synsets(words)\n",
    "#         word_score_pos = 0\n",
    "#         word_score_neg = 0\n",
    "#         for t in range(len(syns)):\n",
    "#             if word_score_pos < swn.senti_synset(syns[t].name()).pos_score():\n",
    "#                 word_score_pos = swn.senti_synset(syns[t].name()).pos_score()\n",
    "#             if word_score_neg < swn.senti_synset(syns[t].name()).neg_score():\n",
    "#                 word_score_neg = swn.senti_synset(syns[t].name()).neg_score()\n",
    "#         if word_score_pos == 0 and word_score_neg == 0:\n",
    "#             most_word[i].remove(words)"
   ]
  },
  {
   "cell_type": "code",
   "execution_count": 14,
   "metadata": {
    "collapsed": false
   },
   "outputs": [],
   "source": [
    "kmeans = KMeans(n_clusters = 1, init='k-means++')\n",
    "centroids = [None]*5\n",
    "for i in range(5):\n",
    "    kmeans.fit(feature_learn[i])\n",
    "    centroids[i] = kmeans.cluster_centers_"
   ]
  },
  {
   "cell_type": "code",
   "execution_count": 17,
   "metadata": {
    "collapsed": false
   },
   "outputs": [],
   "source": [
    "distance = np.zeros((5,100000))\n",
    "for i in range(5):\n",
    "    for j in range(100000):\n",
    "        distance[i][j] = mean_squared_error(centroids[i], test_model[i][j].toarray())"
   ]
  },
  {
   "cell_type": "code",
   "execution_count": 18,
   "metadata": {
    "collapsed": false
   },
   "outputs": [],
   "source": [
    "prob = np.zeros((100000,5))\n",
    "distance_t = np.transpose(distance)\n",
    "for i in range(100000):\n",
    "    for j in range(5):\n",
    "        prob[i][j] = distance_t[i][j]/sum(distance_t[i])"
   ]
  },
  {
   "cell_type": "code",
   "execution_count": 452,
   "metadata": {
    "collapsed": false
   },
   "outputs": [],
   "source": [
    "prob1 = prob.astype('str')\n",
    "review_id = pd.Series.tolist(test_data.review_id)\n",
    "review_id = np.asarray([[str(tmp)] for tmp in review_id])"
   ]
  },
  {
   "cell_type": "code",
   "execution_count": 453,
   "metadata": {
    "collapsed": false
   },
   "outputs": [],
   "source": [
    "result = np.append(review_id, prob1, 1)\n",
    "title = np.asarray([['review_id','1-star','2-star','3-star','4-star','5-star']])\n",
    "result = np.append(title,result,0)\n",
    "#result = [np.array(tmp) for tmp in result]\n",
    "result = result.tolist()\n",
    "result = np.asarray(result)\n",
    "np.savetxt(\"result.csv\",result,fmt='%s,%s,%s,%s,%s,%s')"
   ]
  },
  {
   "cell_type": "code",
   "execution_count": null,
   "metadata": {
    "collapsed": false
   },
   "outputs": [],
   "source": []
  },
  {
   "cell_type": "code",
   "execution_count": null,
   "metadata": {
    "collapsed": false
   },
   "outputs": [],
   "source": []
  },
  {
   "cell_type": "code",
   "execution_count": null,
   "metadata": {
    "collapsed": false
   },
   "outputs": [],
   "source": []
  },
  {
   "cell_type": "code",
   "execution_count": null,
   "metadata": {
    "collapsed": false,
    "scrolled": true
   },
   "outputs": [],
   "source": []
  },
  {
   "cell_type": "code",
   "execution_count": null,
   "metadata": {
    "collapsed": false
   },
   "outputs": [],
   "source": []
  },
  {
   "cell_type": "code",
   "execution_count": null,
   "metadata": {
    "collapsed": false
   },
   "outputs": [],
   "source": []
  },
  {
   "cell_type": "code",
   "execution_count": null,
   "metadata": {
    "collapsed": false
   },
   "outputs": [],
   "source": []
  },
  {
   "cell_type": "code",
   "execution_count": null,
   "metadata": {
    "collapsed": true
   },
   "outputs": [],
   "source": []
  }
 ],
 "metadata": {
  "anaconda-cloud": {},
  "kernelspec": {
   "display_name": "Python [conda root]",
   "language": "python",
   "name": "conda-root-py"
  },
  "language_info": {
   "codemirror_mode": {
    "name": "ipython",
    "version": 3
   },
   "file_extension": ".py",
   "mimetype": "text/x-python",
   "name": "python",
   "nbconvert_exporter": "python",
   "pygments_lexer": "ipython3",
   "version": "3.5.2"
  }
 },
 "nbformat": 4,
 "nbformat_minor": 0
}
